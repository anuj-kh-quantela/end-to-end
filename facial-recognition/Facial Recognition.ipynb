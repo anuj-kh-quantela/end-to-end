{
 "cells": [
  {
   "cell_type": "code",
   "execution_count": 1,
   "metadata": {},
   "outputs": [],
   "source": [
    "from facial_reconition import *\n",
    "import os\n",
    "data_path='./Photos/'"
   ]
  },
  {
   "cell_type": "code",
   "execution_count": 2,
   "metadata": {},
   "outputs": [],
   "source": [
    "# import os\n",
    "# from PIL import Image\n",
    "# import time\n",
    "# from pprint import pprint\n",
    "\n",
    "\n",
    "# path_to_img_dirs = 'Photos/'\n",
    "# default_extn = \".jpg\"\n",
    "\n",
    "\n",
    "# for folder_name in sorted(os.listdir(path_to_img_dirs)):\n",
    "#     print(\"Processing files in folder: \" +str(folder_name))\n",
    "#     files_in_sub_dir = os.listdir(os.path.join(path_to_img_dirs, folder_name))\n",
    "\n",
    "#     i = 1\n",
    "#     for file in files_in_sub_dir:\n",
    "#         print(\"Processing file: \" + str(file))\n",
    "#         time.sleep(0.25)\n",
    "#         file_name, extn = os.path.splitext(os.path.basename(file))\t\t\n",
    "#         img_loc = os.path.join(path_to_img_dirs, folder_name)\n",
    "#         img_file_path = os.path.join(img_loc, file)\n",
    "\n",
    "#         # convert file to default extension if files are not in it\n",
    "#         if not extn == default_extn:\n",
    "#             print file\t\n",
    "#             print(\"converting file: \" +str(img_file_path))\n",
    "#             img = Image.open(img_file_path)\n",
    "#             rgb_img = img.convert('RGB')\n",
    "#             file = file_name+default_extn\n",
    "#             converted_img_path = os.path.join(img_loc, file)\n",
    "#             rgb_img.save(converted_img_path)\n",
    "\n",
    "#             print(\"\\n removing file: \\n\" +str(img_file_path))\n",
    "#             os.remove(img_file_path)\n",
    "#             img_file_path = converted_img_path\n",
    "#             print(\"UPDATING img_file_path: \" + str(img_file_path))\n",
    "#             print(\"\\n NOW IMG img_loc: \\n\" + str(img_loc))\n",
    "#             time.sleep(5)\n",
    "\n",
    "#         num = str(i).zfill(4)\n",
    "#         renamed_file = '%s_%s' % (folder_name, num) + default_extn\n",
    "#         os.rename(img_file_path, os.path.join(img_loc, renamed_file))\n",
    "#         print(\"File: {} has been renamed to: {}\".format(file, renamed_file)) \n",
    "#         i = i+1"
   ]
  },
  {
   "cell_type": "code",
   "execution_count": 3,
   "metadata": {},
   "outputs": [
    {
     "name": "stdout",
     "output_type": "stream",
     "text": [
      "dumping output\n",
      "returning prepare data\n"
     ]
    }
   ],
   "source": [
    "[X,y]=prepare_data(directory_path=data_path,l_threshold=5,dump_file_path=data_path)"
   ]
  },
  {
   "cell_type": "code",
   "execution_count": 4,
   "metadata": {},
   "outputs": [
    {
     "name": "stdout",
     "output_type": "stream",
     "text": [
      "entering training module\n",
      "StratifiedShuffleSplit(n_splits=10, random_state=0, test_size=0.2,\n",
      "            train_size=None)\n",
      "inside preprocessing function\n",
      "returning from preprocess data\n",
      "classes must be passed on the first call to partial_fit.\n",
      "('accuracy in iteration ', 1, ' is =', 1.0)\n",
      "returning from train module\n"
     ]
    },
    {
     "name": "stderr",
     "output_type": "stream",
     "text": [
      "/home/anuj/.virtualenvs/video-analytics-2/local/lib/python2.7/site-packages/sklearn/linear_model/stochastic_gradient.py:117: DeprecationWarning: n_iter parameter is deprecated in 0.19 and will be removed in 0.21. Use max_iter and tol instead.\n",
      "  DeprecationWarning)\n",
      "/home/anuj/.virtualenvs/video-analytics-2/local/lib/python2.7/site-packages/sklearn/linear_model/stochastic_gradient.py:117: DeprecationWarning: n_iter parameter is deprecated in 0.19 and will be removed in 0.21. Use max_iter and tol instead.\n",
      "  DeprecationWarning)\n"
     ]
    }
   ],
   "source": [
    "clf_sgd=SGDClassifier(loss='log',n_jobs=7,\\\n",
    "                      shuffle=True,class_weight=None,warm_start=False\\\n",
    "                      ,n_iter = np.ceil(10**6 / 600),average=True)\n",
    "clf_sgd=train_model(clf_sgd,X,y,minm_image_process=50,threshold_accuracy=0.9,classes=list(range(1,13)))"
   ]
  },
  {
   "cell_type": "code",
   "execution_count": 5,
   "metadata": {},
   "outputs": [],
   "source": [
    "pickle.dump(clf_sgd,open(data_path+'quantela_office_face_model.pickle','wb'))"
   ]
  },
  {
   "cell_type": "code",
   "execution_count": 6,
   "metadata": {},
   "outputs": [
    {
     "name": "stdout",
     "output_type": "stream",
     "text": [
      "('number of faces detected', 3)\n",
      "(9, 'abhijay', 0.9887652548222828)\n",
      "(7, 'utkarsh', 0.9967170343396136)\n",
      "(10, 'gajanan', 0.9755266249294952)\n"
     ]
    }
   ],
   "source": [
    "clf_sgd=pickle.load(open(data_path+'quantela_office_face_model.pickle'))\n",
    "\n",
    "cap = cv2.VideoCapture('/media/anuj/Work-HDD/WORK/CLOUD-DRIVE/Google-Drive/Computer-Vision/Sample-Videos/Face-Matching/inside_office_faces.avi')\n",
    "while cap.isOpened():\n",
    "#     t1=datetime.datetime.now()\n",
    "    ret,frame = cap.read()\n",
    "    frame_1=get_pred_on_frame(frame,clf_sgd,data_path)\n",
    "    cv2.imshow('preview',frame_1)\n",
    "    k = cv2.waitKey(33)\n",
    "    if k==27: # Esc key to stop\n",
    "        break\n",
    "    Disp.clear_output(wait=True)\n",
    "#     t2=datetime.datetime.now()    \n",
    "    \n",
    "cap.release()\n",
    "cv2.destroyAllWindows()"
   ]
  },
  {
   "cell_type": "code",
   "execution_count": null,
   "metadata": {},
   "outputs": [],
   "source": []
  }
 ],
 "metadata": {
  "kernelspec": {
   "display_name": "Python 2",
   "language": "python",
   "name": "python2"
  },
  "language_info": {
   "codemirror_mode": {
    "name": "ipython",
    "version": 2
   },
   "file_extension": ".py",
   "mimetype": "text/x-python",
   "name": "python",
   "nbconvert_exporter": "python",
   "pygments_lexer": "ipython2",
   "version": "2.7.12"
  }
 },
 "nbformat": 4,
 "nbformat_minor": 2
}
