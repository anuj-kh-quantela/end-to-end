{
 "cells": [
  {
   "cell_type": "markdown",
   "metadata": {},
   "source": [
    "# Slip and Fall Detection\n",
    "In this document we present the working of our software for Slip and Fall detection use-case and show how our API works."
   ]
  },
  {
   "cell_type": "markdown",
   "metadata": {},
   "source": [
    "### Understanding the case of slip and fall\n",
    "* It is the case where we analyze videos from cameras looking at moving humans. The algorithm needs to detect if a human, while completely visible and is moving suffers an accidental fall."
   ]
  },
  {
   "cell_type": "markdown",
   "metadata": {},
   "source": [
    "## Steps to call API functions"
   ]
  },
  {
   "cell_type": "markdown",
   "metadata": {},
   "source": [
    "### Step 1. Call class imports"
   ]
  },
  {
   "cell_type": "code",
   "execution_count": 2,
   "metadata": {},
   "outputs": [],
   "source": [
    "import cv2,datetime,os\n",
    "import numpy as np\n",
    "import pandas as pd\n",
    "import matplotlib.pyplot as plt\n",
    "import matplotlib\n",
    "from slip_and_fall import SlipAndFall"
   ]
  },
  {
   "cell_type": "markdown",
   "metadata": {},
   "source": [
    "### Step 2. Set video path"
   ]
  },
  {
   "cell_type": "code",
   "execution_count": 3,
   "metadata": {},
   "outputs": [],
   "source": [
    "# Video path, could be a local video as well as an RTSP feed.\n",
    "path_to_video = 'test-4.webm' # Local video\n",
    "# path_to_video = 'rtsp://192.168.1.104:8554/demoVideo.mpg' # RTSP link"
   ]
  },
  {
   "cell_type": "markdown",
   "metadata": {},
   "source": [
    "### Step 3. Make inastance variable for Video Synopsis class with path to video as a parameter"
   ]
  },
  {
   "cell_type": "markdown",
   "metadata": {},
   "source": [
    "#### function: SlipAndFall(path_to_video)\n",
    "* This function takes in a path to video file location to instantiate the SlipAndFall class. "
   ]
  },
  {
   "cell_type": "code",
   "execution_count": 4,
   "metadata": {},
   "outputs": [
    {
     "name": "stdout",
     "output_type": "stream",
     "text": [
      "Done Init!\n"
     ]
    }
   ],
   "source": [
    "vo = SlipAndFall(path_to_video, 'vijaywada', 'test-location')"
   ]
  },
  {
   "cell_type": "markdown",
   "metadata": {},
   "source": [
    "### Step 4. a. Select maximum area\n",
    "* Maximum area selection is need by the algorithm to know the upper bound on the area acquired by humans in a given video."
   ]
  },
  {
   "cell_type": "code",
   "execution_count": 5,
   "metadata": {},
   "outputs": [
    {
     "data": {
      "text/html": [
       "<img src=\"min-area.png\"/>"
      ],
      "text/plain": [
       "<IPython.core.display.Image object>"
      ]
     },
     "execution_count": 5,
     "metadata": {},
     "output_type": "execute_result"
    }
   ],
   "source": [
    "from IPython.display import Image\n",
    "from IPython.core.display import HTML \n",
    "Image(url= \"min-area.png\")"
   ]
  },
  {
   "cell_type": "markdown",
   "metadata": {},
   "source": [
    "### Step 4. b. Select minimum area\n",
    "* Minimum area selection is need by the algorithm to know the lower bound on the area acquired by humans in a given video."
   ]
  },
  {
   "cell_type": "code",
   "execution_count": 6,
   "metadata": {},
   "outputs": [
    {
     "data": {
      "text/html": [
       "<img src=\"max-area.png\"/>"
      ],
      "text/plain": [
       "<IPython.core.display.Image object>"
      ]
     },
     "execution_count": 6,
     "metadata": {},
     "output_type": "execute_result"
    }
   ],
   "source": [
    "from IPython.display import Image\n",
    "from IPython.core.display import HTML \n",
    "Image(url= \"max-area.png\")"
   ]
  },
  {
   "cell_type": "code",
   "execution_count": 7,
   "metadata": {},
   "outputs": [
    {
     "name": "stdout",
     "output_type": "stream",
     "text": [
      "Processing frame: 0.0\n",
      "Processing frame: 1.0\n",
      "Processing frame: 2.0\n",
      "Processing frame: 3.0\n",
      "Processing frame: 4.0\n",
      "Processing frame: 5.0\n",
      "Processing frame: 6.0\n",
      "Processing frame: 7.0\n",
      "Processing frame: 8.0\n",
      "Processing frame: 9.0\n",
      "Processing frame: 10.0\n",
      "Processing frame: 11.0\n",
      "Processing frame: 12.0\n",
      "Processing frame: 13.0\n",
      "Processing frame: 14.0\n",
      "Processing frame: 15.0\n",
      "Processing frame: 16.0\n",
      "Processing frame: 17.0\n",
      "Processing frame: 18.0\n",
      "Processing frame: 19.0\n",
      "Processing frame: 20.0\n",
      "Processing frame: 21.0\n",
      "Processing frame: 22.0\n",
      "Processing frame: 23.0\n",
      "Processing frame: 24.0\n",
      "Processing frame: 25.0\n",
      "Processing frame: 26.0\n",
      "Processing frame: 27.0\n",
      "Processing frame: 28.0\n",
      "Processing frame: 29.0\n",
      "Processing frame: 30.0\n",
      "Processing frame: 31.0\n",
      "Processing frame: 32.0\n",
      "Processing frame: 33.0\n",
      "Processing frame: 34.0\n",
      "Processing frame: 35.0\n",
      "Processing frame: 36.0\n",
      "Processing frame: 37.0\n",
      "Processing frame: 38.0\n",
      "Processing frame: 39.0\n",
      "Processing frame: 40.0\n",
      "Processing frame: 41.0\n",
      "Processing frame: 42.0\n",
      "Processing frame: 43.0\n",
      "Processing frame: 44.0\n",
      "Processing frame: 45.0\n",
      "Processing frame: 46.0\n",
      "Processing frame: 47.0\n",
      "Processing frame: 48.0\n",
      "Processing frame: 49.0\n",
      "Processing frame: 50.0\n",
      "Processing frame: 51.0\n",
      "Processing frame: 52.0\n",
      "Processing frame: 53.0\n",
      "Processing frame: 54.0\n",
      "Processing frame: 55.0\n",
      "Processing frame: 56.0\n",
      "Processing frame: 57.0\n",
      "Processing frame: 58.0\n",
      "Processing frame: 59.0\n",
      "Processing frame: 60.0\n",
      "Processing frame: 61.0\n",
      "Processing frame: 62.0\n",
      "Processing frame: 63.0\n",
      "Processing frame: 64.0\n",
      "Processing frame: 65.0\n",
      "Processing frame: 66.0\n",
      "Processing frame: 67.0\n",
      "Processing frame: 68.0\n",
      "Processing frame: 69.0\n",
      "Processing frame: 70.0\n",
      "Processing frame: 71.0\n",
      "Processing frame: 72.0\n",
      "Processing frame: 73.0\n",
      "Processing frame: 74.0\n",
      "Processing frame: 75.0\n",
      "Processing frame: 76.0\n",
      "Processing frame: 77.0\n",
      "Processing frame: 78.0\n",
      "Processing frame: 79.0\n",
      "Processing frame: 80.0\n",
      "Processing frame: 81.0\n",
      "Processing frame: 82.0\n",
      "Processing frame: 83.0\n",
      "Processing frame: 84.0\n",
      "Processing frame: 85.0\n",
      "Processing frame: 86.0\n",
      "Processing frame: 87.0\n",
      "Processing frame: 88.0\n",
      "Processing frame: 89.0\n",
      "Processing frame: 90.0\n",
      "Processing frame: 91.0\n",
      "Processing frame: 92.0\n",
      "Processing frame: 93.0\n",
      "Processing frame: 94.0\n",
      "Processing frame: 95.0\n",
      "Processing frame: 96.0\n",
      "Processing frame: 97.0\n",
      "Processing frame: 98.0\n",
      "Processing frame: 99.0\n",
      "Processing frame: 100.0\n",
      "Processing frame: 101.0\n",
      "Processing frame: 102.0\n",
      "Processing frame: 103.0\n",
      "Processing frame: 104.0\n",
      "Processing frame: 105.0\n",
      "Processing frame: 106.0\n",
      "Processing frame: 107.0\n",
      "Processing frame: 108.0\n",
      "Processing frame: 109.0\n",
      "Processing frame: 110.0\n",
      "Processing frame: 111.0\n",
      "Processing frame: 112.0\n",
      "Processing frame: 113.0\n",
      "Processing frame: 114.0\n",
      "Processing frame: 115.0\n",
      "Processing frame: 116.0\n",
      "Processing frame: 117.0\n",
      "Processing frame: 118.0\n",
      "Processing frame: 119.0\n",
      "Processing frame: 120.0\n",
      "Processing frame: 121.0\n",
      "Processing frame: 122.0\n",
      "Processing frame: 123.0\n",
      "Processing frame: 124.0\n",
      "Processing frame: 125.0\n",
      "Processing frame: 126.0\n",
      "Processing frame: 127.0\n",
      "Processing frame: 128.0\n",
      "Processing frame: 129.0\n",
      "Processing frame: 130.0\n",
      "Processing frame: 131.0\n",
      "Processing frame: 132.0\n",
      "Processing frame: 133.0\n",
      "Processing frame: 134.0\n",
      "Processing frame: 135.0\n",
      "Processing frame: 136.0\n",
      "Processing frame: 137.0\n",
      "Processing frame: 138.0\n",
      "Processing frame: 139.0\n",
      "Processing frame: 140.0\n",
      "Processing frame: 141.0\n",
      "Processing frame: 142.0\n",
      "Processing frame: 143.0\n",
      "Processing frame: 144.0\n",
      "Processing frame: 145.0\n",
      "Processing frame: 146.0\n",
      "Processing frame: 147.0\n",
      "Processing frame: 148.0\n",
      "Processing frame: 149.0\n",
      "Processing frame: 150.0\n",
      "Processing frame: 151.0\n",
      "Processing frame: 152.0\n",
      "Processing frame: 153.0\n",
      "Processing frame: 154.0\n",
      "Processing frame: 155.0\n",
      "Processing frame: 156.0\n",
      "Processing frame: 157.0\n",
      "Processing frame: 158.0\n",
      "Processing frame: 159.0\n",
      "Processing frame: 160.0\n",
      "Processing frame: 161.0\n",
      "Processing frame: 162.0\n",
      "Processing frame: 163.0\n",
      "Processing frame: 164.0\n",
      "Processing frame: 165.0\n",
      "Processing frame: 166.0\n",
      "Processing frame: 167.0\n",
      "Processing frame: 168.0\n",
      "Processing frame: 169.0\n",
      "Processing frame: 170.0\n",
      "Processing frame: 171.0\n",
      "Processing frame: 172.0\n",
      "Processing frame: 173.0\n",
      "Processing frame: 174.0\n",
      "Processing frame: 175.0\n",
      "Processing frame: 176.0\n",
      "Processing frame: 177.0\n",
      "Processing frame: 178.0\n",
      "Processing frame: 179.0\n",
      "Processing frame: 180.0\n",
      "Processing frame: 181.0\n",
      "Processing frame: 182.0\n",
      "Processing frame: 183.0\n",
      "Processing frame: 184.0\n",
      "Processing frame: 185.0\n",
      "Processing frame: 186.0\n",
      "Processing frame: 187.0\n",
      "Processing frame: 188.0\n",
      "Processing frame: 189.0\n",
      "Processing frame: 190.0\n",
      "Processing frame: 191.0\n",
      "Processing frame: 192.0\n",
      "Processing frame: 193.0\n",
      "Processing frame: 194.0\n",
      "Processing frame: 195.0\n",
      "Processing frame: 196.0\n",
      "Processing frame: 197.0\n",
      "Processing frame: 198.0\n",
      "Processing frame: 199.0\n",
      "Processing frame: 200.0\n",
      "Processing frame: 201.0\n",
      "Processing frame: 202.0\n",
      "Processing frame: 203.0\n",
      "Processing frame: 204.0\n",
      "Processing frame: 205.0\n",
      "Processing frame: 206.0\n",
      "Processing frame: 207.0\n",
      "Processing frame: 208.0\n",
      "Processing frame: 209.0\n",
      "Processing frame: 210.0\n",
      "Processing frame: 211.0\n",
      "Processing frame: 212.0\n",
      "Processing frame: 213.0\n",
      "Processing frame: 214.0\n",
      "Processing frame: 215.0\n",
      "Processing frame: 216.0\n",
      "Processing frame: 217.0\n",
      "Processing frame: 218.0\n",
      "Processing frame: 219.0\n",
      "Processing frame: 220.0\n",
      "Processing frame: 221.0\n",
      "Processing frame: 222.0\n",
      "Processing frame: 223.0\n",
      "Processing frame: 224.0\n",
      "Processing frame: 225.0\n",
      "Processing frame: 226.0\n",
      "Processing frame: 227.0\n",
      "Processing frame: 228.0\n",
      "Processing frame: 229.0\n",
      "Processing frame: 230.0\n",
      "Processing frame: 231.0\n",
      "Processing frame: 232.0\n",
      "Processing frame: 233.0\n",
      "Processing frame: 234.0\n",
      "Processing frame: 235.0\n",
      "Processing frame: 236.0\n",
      "Processing frame: 237.0\n",
      "Processing frame: 238.0\n",
      "Processing frame: 239.0\n",
      "Processing frame: 240.0\n",
      "Processing frame: 241.0\n",
      "Processing frame: 242.0\n",
      "Processing frame: 243.0\n",
      "Processing frame: 244.0\n",
      "Processing frame: 245.0\n",
      "Processing frame: 246.0\n",
      "Processing frame: 247.0\n",
      "Processing frame: 248.0\n",
      "Processing frame: 249.0\n",
      "Processing frame: 250.0\n",
      "Processing frame: 251.0\n",
      "Processing frame: 252.0\n",
      "Processing frame: 253.0\n",
      "Processing frame: 254.0\n",
      "Processing frame: 255.0\n",
      "Processing frame: 256.0\n",
      "Processing frame: 257.0\n",
      "Processing frame: 258.0\n",
      "Processing frame: 259.0\n",
      "Processing frame: 260.0\n",
      "Processing frame: 261.0\n",
      "Processing frame: 262.0\n",
      "Processing frame: 263.0\n",
      "Processing frame: 264.0\n",
      "Processing frame: 265.0\n",
      "Processing frame: 266.0\n",
      "Processing frame: 267.0\n",
      "Processing frame: 268.0\n",
      "Processing frame: 269.0\n",
      "Processing frame: 270.0\n",
      "Processing frame: 271.0\n",
      "Processing frame: 272.0\n",
      "Processing frame: 273.0\n",
      "Processing frame: 274.0\n",
      "Processing frame: 275.0\n",
      "Processing frame: 276.0\n",
      "Processing frame: 277.0\n",
      "Processing frame: 278.0\n",
      "Processing frame: 279.0\n",
      "Processing frame: 280.0\n",
      "Processing frame: 281.0\n",
      "Processing frame: 282.0\n",
      "Processing frame: 283.0\n",
      "Processing frame: 284.0\n",
      "Processing frame: 285.0\n",
      "Processing frame: 286.0\n",
      "Processing frame: 287.0\n",
      "Processing frame: 288.0\n",
      "Processing frame: 289.0\n",
      "Processing frame: 290.0\n",
      "Processing frame: 291.0\n",
      "Processing frame: 292.0\n",
      "Processing frame: 293.0\n",
      "Processing frame: 294.0\n",
      "Processing frame: 295.0\n",
      "Processing frame: 296.0\n",
      "Processing frame: 297.0\n",
      "Processing frame: 298.0\n",
      "Processing frame: 299.0\n",
      "Processing frame: 300.0\n",
      "Processing frame: 301.0\n",
      "Processing frame: 302.0\n",
      "Processing frame: 303.0\n",
      "Processing frame: 304.0\n",
      "Processing frame: 305.0\n",
      "Processing frame: 306.0\n",
      "Processing frame: 307.0\n",
      "Processing frame: 308.0\n",
      "Processing frame: 309.0\n",
      "Processing frame: 310.0\n"
     ]
    }
   ],
   "source": [
    "vo.slip_and_fall_algo(plot_intermediate=True, remove_shadow=True, minm_area=8370, maxm_area=90360)"
   ]
  },
  {
   "cell_type": "code",
   "execution_count": null,
   "metadata": {},
   "outputs": [],
   "source": []
  }
 ],
 "metadata": {
  "kernelspec": {
   "display_name": "Python 2",
   "language": "python",
   "name": "python2"
  },
  "language_info": {
   "codemirror_mode": {
    "name": "ipython",
    "version": 2
   },
   "file_extension": ".py",
   "mimetype": "text/x-python",
   "name": "python",
   "nbconvert_exporter": "python",
   "pygments_lexer": "ipython2",
   "version": "2.7.12"
  }
 },
 "nbformat": 4,
 "nbformat_minor": 2
}
