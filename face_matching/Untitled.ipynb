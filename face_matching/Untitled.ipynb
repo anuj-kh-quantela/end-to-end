{
 "cells": [
  {
   "cell_type": "markdown",
   "metadata": {},
   "source": [
    "# Test threading for facial macthing"
   ]
  },
  {
   "cell_type": "code",
   "execution_count": 7,
   "metadata": {},
   "outputs": [],
   "source": [
    "import threading"
   ]
  },
  {
   "cell_type": "code",
   "execution_count": 1,
   "metadata": {},
   "outputs": [],
   "source": [
    "from face_matching_in_wild import FaceMatchingInWild"
   ]
  },
  {
   "cell_type": "code",
   "execution_count": 3,
   "metadata": {},
   "outputs": [
    {
     "name": "stdout",
     "output_type": "stream",
     "text": [
      "== Using locally stored video file ==\n",
      "\n",
      "***Initialization Complete!***\n",
      "\n"
     ]
    }
   ],
   "source": [
    "video_object = FaceMatchingInWild('./data/outside_office_faces.avi')"
   ]
  },
  {
   "cell_type": "code",
   "execution_count": 4,
   "metadata": {},
   "outputs": [
    {
     "name": "stdout",
     "output_type": "stream",
     "text": [
      "loading image: Abhijay_0002.jpg\n",
      "loading image: Gajanan_0002.jpg\n",
      "time to load faces:3.67745685577\n"
     ]
    }
   ],
   "source": [
    "video_object.load_unknown_faces()"
   ]
  },
  {
   "cell_type": "code",
   "execution_count": 5,
   "metadata": {},
   "outputs": [
    {
     "name": "stdout",
     "output_type": "stream",
     "text": [
      "frame no: 0\n",
      "\n",
      "Frame No: 0 Found 5 faces in the frame\n",
      "time per frame:1.84065008163\n",
      "frame no: 1\n",
      "\n",
      "Frame No: 1 Found 5 faces in the frame\n",
      "time per frame:1.72745108604\n",
      "frame no: 2\n",
      "\n",
      "Frame No: 2 Found 5 faces in the frame\n",
      "time per frame:1.72885107994\n",
      "frame no: 3\n",
      "\n",
      "Frame No: 3 Found 5 faces in the frame\n",
      "time per frame:1.70382094383\n",
      "frame no: 4\n",
      "\n",
      "Frame No: 4 Found 5 faces in the frame\n",
      "time per frame:1.77847599983\n",
      "frame no: 5\n",
      "\n",
      "Frame No: 5 Found 5 faces in the frame\n",
      "time per frame:1.79108500481\n",
      "frame no: 6\n",
      "\n",
      "Frame No: 6 Found 5 faces in the frame\n",
      "time per frame:1.82855296135\n",
      "frame no: 7\n",
      "\n",
      "Frame No: 7 Found 5 faces in the frame\n",
      "time per frame:1.77488493919\n",
      "frame no: 8\n",
      "\n",
      "Frame No: 8 Found 5 faces in the frame\n",
      "time per frame:1.74253296852\n",
      "frame no: 9\n",
      "\n",
      "Frame No: 9 Found 5 faces in the frame\n",
      "time per frame:1.75571608543\n",
      "output video location: /home/anuj/git/work/video-analytics/video-analytics-api/city/bangalore/face_matching/output/bangalore/face_matching/outside_office_faces/2018_02_21_23_37_07_face_match_output.avi\n"
     ]
    }
   ],
   "source": [
    "video_object.run_face_matching()"
   ]
  },
  {
   "cell_type": "code",
   "execution_count": 8,
   "metadata": {},
   "outputs": [
    {
     "name": "stdout",
     "output_type": "stream",
     "text": [
      "frame no: 0\n",
      "\n",
      "Frame No: 0 Found 5 faces in the frame\n",
      "time per frame:1.78772187233\n",
      "frame no: 1\n",
      "\n",
      "Frame No: 1 Found 5 faces in the frame\n",
      "time per frame:1.80810308456\n",
      "frame no: 2\n",
      "\n",
      "Frame No: 2 Found 5 faces in the frame\n",
      "time per frame:1.7555270195\n",
      "frame no: 3\n",
      "\n",
      "Frame No: 3 Found 5 faces in the frame\n",
      "time per frame:1.71197795868\n",
      "frame no: 4\n",
      "\n",
      "Frame No: 4 Found 5 faces in the frame\n",
      "time per frame:1.69278311729\n",
      "frame no: 5\n",
      "\n",
      "Frame No: 5 Found 5 faces in the frame\n",
      "time per frame:1.71101307869\n",
      "frame no: 6\n",
      "\n",
      "Frame No: 6 Found 5 faces in the frame\n",
      "time per frame:1.72979402542\n",
      "frame no: 7\n",
      "\n",
      "Frame No: 7 Found 5 faces in the frame\n",
      "time per frame:1.73559999466\n",
      "frame no: 8\n",
      "\n",
      "Frame No: 8 Found 5 faces in the frame\n",
      "time per frame:1.72868490219\n",
      "output video location: /home/anuj/git/work/video-analytics/video-analytics-api/city/bangalore/face_matching/output/bangalore/face_matching/outside_office_faces/2018_02_21_23_37_07_face_match_output.avi\n",
      "frame no: 0\n",
      "\n",
      "Frame No: 0 Found 5 faces in the frame\n",
      "time per frame:1.79335808754\n",
      "frame no: 1\n",
      "\n",
      "Frame No: 1 Found 5 faces in the frame\n",
      "time per frame:1.82965898514\n",
      "frame no: 2\n",
      "\n",
      "Frame No: 2 Found 5 faces in the frame\n",
      "time per frame:1.72034192085\n",
      "frame no: 3\n",
      "\n",
      "Frame No: 3 Found 5 faces in the frame\n",
      "time per frame:1.69371986389\n",
      "output video location: /home/anuj/git/work/video-analytics/video-analytics-api/city/bangalore/face_matching/output/bangalore/face_matching/outside_office_faces/2018_02_21_23_37_07_face_match_output.avi\n",
      "frame no: 0\n",
      "\n",
      "Frame No: 0 Found 5 faces in the frame\n",
      "time per frame:1.76657485962\n",
      "frame no: 1\n",
      "\n",
      "Frame No: 1 Found 5 faces in the frame\n",
      "time per frame:1.73525309563\n",
      "frame no: 2\n",
      "\n",
      "Frame No: 2 Found 5 faces in the frame\n",
      "time per frame:1.72898793221\n",
      "frame no: 3\n",
      "\n",
      "Frame No: 3 Found 5 faces in the frame\n",
      "time per frame:1.77096009254\n",
      "output video location: /home/anuj/git/work/video-analytics/video-analytics-api/city/bangalore/face_matching/output/bangalore/face_matching/outside_office_faces/2018_02_21_23_37_07_face_match_output.avi\n",
      "frame no: 0\n",
      "\n",
      "Frame No: 0 Found 5 faces in the frame\n",
      "time per frame:1.82287216187\n",
      "frame no: 1\n",
      "\n",
      "Frame No: 1 Found 5 faces in the frame\n",
      "time per frame:1.84194302559\n",
      "frame no: 2\n",
      "\n",
      "Frame No: 2 Found 5 faces in the frame\n",
      "time per frame:1.82054281235\n",
      "frame no: 3\n",
      "\n",
      "Frame No: 3 Found 5 faces in the frame\n",
      "time per frame:1.81346917152\n",
      "output video location: /home/anuj/git/work/video-analytics/video-analytics-api/city/bangalore/face_matching/output/bangalore/face_matching/outside_office_faces/2018_02_21_23_37_07_face_match_output.avi\n"
     ]
    }
   ],
   "source": [
    "for num_thread in range(1, 5):\n",
    "    t = threading.Thread(target=video_object.run_face_matching())\n",
    "    t.start()"
   ]
  },
  {
   "cell_type": "code",
   "execution_count": null,
   "metadata": {},
   "outputs": [],
   "source": []
  }
 ],
 "metadata": {
  "kernelspec": {
   "display_name": "Python 2",
   "language": "python",
   "name": "python2"
  },
  "language_info": {
   "codemirror_mode": {
    "name": "ipython",
    "version": 2
   },
   "file_extension": ".py",
   "mimetype": "text/x-python",
   "name": "python",
   "nbconvert_exporter": "python",
   "pygments_lexer": "ipython2",
   "version": "2.7.12"
  }
 },
 "nbformat": 4,
 "nbformat_minor": 2
}
