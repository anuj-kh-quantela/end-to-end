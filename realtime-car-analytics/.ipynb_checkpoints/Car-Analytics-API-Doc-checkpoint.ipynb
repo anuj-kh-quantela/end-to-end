{
 "cells": [
  {
   "cell_type": "markdown",
   "metadata": {},
   "source": [
    "# Car Analytics\n",
    "This project leverages the deep learning library __Tensorflow__ (with GPU) and analyzes cars in the real-time.\n",
    "It includes the following modules:\n",
    "* __High Speed Car Detection (HSCD):__ This module analyzes the incoming frames and detects the cars moving with a speed greater than the specified threshold value. \n",
    "* __Cars Moving in Wrong Direction (CMWD):__ Given an input frame, this module detects the cars which are moving in wrong direction.\n",
    "* __Traffic Signal Violation (TSV):__ The purpose of this module is to detect and flag all the cars violating a particular given traffic signal.\n",
    "* __Counting Cars:__ This module count the cars passing a region in a given frame. \n",
    "\n",
    "* __All the modules run simultaneously in real time and capture the above events individually.__"
   ]
  },
  {
   "cell_type": "markdown",
   "metadata": {},
   "source": [
    "## Steps to call API functions"
   ]
  },
  {
   "cell_type": "markdown",
   "metadata": {},
   "source": [
    "### Step 1: Call class imports"
   ]
  },
  {
   "cell_type": "code",
   "execution_count": 1,
   "metadata": {},
   "outputs": [
    {
     "name": "stderr",
     "output_type": "stream",
     "text": [
      "darkflow/darkflow/net/yolov2/predict.py:248: SyntaxWarning: name 'direction_detection_result' is assigned to before global declaration\n",
      "  global traffic_signal_violation_result, direction_detection_result\n"
     ]
    }
   ],
   "source": [
    "from car_analytics import CarAnalytics"
   ]
  },
  {
   "cell_type": "markdown",
   "metadata": {},
   "source": [
    "### Step 2: Setup video path"
   ]
  },
  {
   "cell_type": "code",
   "execution_count": 2,
   "metadata": {},
   "outputs": [],
   "source": [
    "# Video path, could be a local video as well as an RTSP feed.\n",
    "# path_to_video = 'rtsp://<ip-address>/demoVideo.mp4' \n",
    "path_to_video = 'data/red_light_sim_1.mp4' # Local video"
   ]
  },
  {
   "cell_type": "markdown",
   "metadata": {},
   "source": [
    "### Step 3. Make instance variable for Car Analytics class with path to video as a parameter\n",
    "#### function: CarAnalytics(path_to_video)\n",
    "This function takes in a path to video file location to instantiate the CarAnalytics class.\n",
    "\n",
    "It creates an object of the CarAnalytics class\n"
   ]
  },
  {
   "cell_type": "code",
   "execution_count": 3,
   "metadata": {},
   "outputs": [
    {
     "name": "stdout",
     "output_type": "stream",
     "text": [
      "\n",
      "***Initialization Complete!***\n",
      "\n",
      "\n",
      "Please proceed for individual module setup\n",
      "\n"
     ]
    }
   ],
   "source": [
    "# Video path, could be a local video as well as an RTSP feed.\n",
    "video_object = CarAnalytics(path_to_video)"
   ]
  },
  {
   "cell_type": "markdown",
   "metadata": {},
   "source": [
    "### Step 3: Setup counting cars module\n",
    "This  module does not requires any parameters to setup.\n",
    "\n",
    "#### function: setup_counting_cars()\n",
    "Sets up and counting cars module for given location or video."
   ]
  },
  {
   "cell_type": "code",
   "execution_count": 4,
   "metadata": {},
   "outputs": [],
   "source": [
    "video_object.setup_counting_cars()"
   ]
  },
  {
   "cell_type": "markdown",
   "metadata": {},
   "source": [
    "### Step 4: Setup high speed detection module\n",
    "This module requires user parameters from the user as a part of calibration procedure. \n",
    "\n",
    "#### function: setup_high_speed_car_detection()\n",
    "User can either input parameters during API call or can pass the same via config.ini file in the config folder since these are project based parameter.\n",
    "\n",
    "User also needs to __setup an roi__ which pops up immediately after running this function. All the HSCD parameters are saved as per video name or location name.\n",
    "\n",
    "#### Required parameters:\n",
    "* distance\n",
    "* frame rate\n",
    "* speed limit threshold"
   ]
  },
  {
   "cell_type": "code",
   "execution_count": 5,
   "metadata": {},
   "outputs": [],
   "source": [
    "distance = 10\n",
    "frameRate = 15\n",
    "speedLimit = 10"
   ]
  },
  {
   "cell_type": "code",
   "execution_count": 6,
   "metadata": {},
   "outputs": [
    {
     "name": "stdout",
     "output_type": "stream",
     "text": [
      "--------------------------------------------------------------\n",
      "Define roi, select four points on a image\n",
      "Please follow the below order while selecting roi\n",
      "--------------------------------------------------------------\n",
      "Select --> bottom left  point\n",
      "Select --> top left point\n",
      "Select --> top right point\n",
      "Select --> bottom right point\n",
      "---------------------------------------------------------------------\n",
      "Press: \n",
      "'c': Confirm\n",
      "'r': Reset\n",
      "'q': Quit\n",
      "\n",
      "sample image has been saved for future use as roi_sample.jpg\n",
      "\n",
      "*** RoI configuration for High Speed Car Detection saved ***\n",
      "\n"
     ]
    }
   ],
   "source": [
    "video_object.setup_high_speed_detection(distance, frameRate, speedLimit)"
   ]
  },
  {
   "cell_type": "markdown",
   "metadata": {},
   "source": [
    "### ROI setup instructions for high speed car detection module\n",
    "An roi with instructions (as shown below) pops up when a user runs the __setup_high_speed_car_detection()__ function."
   ]
  },
  {
   "cell_type": "code",
   "execution_count": 7,
   "metadata": {},
   "outputs": [
    {
     "data": {
      "text/html": [
       "<img src=\"RoI_Instruction_Image_HSCD.jpg\"/>"
      ],
      "text/plain": [
       "<IPython.core.display.Image object>"
      ]
     },
     "execution_count": 7,
     "metadata": {},
     "output_type": "execute_result"
    }
   ],
   "source": [
    "from IPython.display import Image\n",
    "from IPython.core.display import HTML \n",
    "Image(url= \"RoI_Instruction_Image_HSCD.jpg\")"
   ]
  },
  {
   "cell_type": "markdown",
   "metadata": {},
   "source": [
    "### Step 5: Setup cars moving in wrong direction module\n",
    "\n",
    "#### function: setup_wrong_direction_detection()\n",
    "User needs to setup an roi which pops up immediately after running this function. All the CMWD parameters are saved as per video name or location name."
   ]
  },
  {
   "cell_type": "code",
   "execution_count": 8,
   "metadata": {},
   "outputs": [
    {
     "name": "stdout",
     "output_type": "stream",
     "text": [
      "('Image resolution: ', (1080, 1920, 3))\n",
      "--------------------------------------------------------------\n",
      "Define roi, select four points on a image\n",
      "Please follow the below order while selecting roi\n",
      "--------------------------------------------------------------\n",
      "Select --> bottom left  point\n",
      "Select --> top left point\n",
      "Select --> top right point\n",
      "Select --> bottom right point\n",
      "---------------------------------------------------------------------\n",
      "Press: \n",
      "'c': Confirm\n",
      "'r': Reset\n",
      "'q': Quit\n",
      "\n",
      "*** RoI set for 1 road(s) ***\n",
      "\n",
      "Sample image has been saved for future use as roi_sample_direction.jpg\n",
      "\n",
      "*** RoI Configuration for Wrong Direction Detection saved ***\n",
      "\n"
     ]
    }
   ],
   "source": [
    "video_object.setup_wrong_direction_detection()"
   ]
  },
  {
   "cell_type": "markdown",
   "metadata": {},
   "source": [
    "### ROI setup instructions for cars moving in wrong direction module\n",
    "An roi with instructions (as shown below) pops up when a user runs the __setup_wrong_direction_detection()__ function."
   ]
  },
  {
   "cell_type": "markdown",
   "metadata": {},
   "source": [
    "<img src=\"RoI_Instruction_Image_WD.jpg\">"
   ]
  },
  {
   "cell_type": "markdown",
   "metadata": {},
   "source": [
    "### Step 6: Setup traffic signal violation module\n",
    "\n",
    "#### function: setup_traffic_signal_violation_detection()\n",
    "User needs to setup an roi which pops up immediately after running this function. All the TSV parameters are saved as per video name or location name."
   ]
  },
  {
   "cell_type": "code",
   "execution_count": 9,
   "metadata": {},
   "outputs": [
    {
     "name": "stdout",
     "output_type": "stream",
     "text": [
      "('Image resolution: ', (1080, 1920, 3))\n",
      "--------------------------------------------------------------\n",
      "Define roi, select four points on a image\n",
      "Please follow the below order while selecting roi\n",
      "--------------------------------------------------------------\n",
      "Select --> bottom left  point\n",
      "Select --> top left point\n",
      "Select --> top right point\n",
      "Select --> bottom right point\n",
      "---------------------------------------------------------------------\n",
      "Press: \n",
      "'c': Confirm\n",
      "'r': Reset\n",
      "'q': Quit\n",
      "\n",
      "Sample image has been saved for future use as roi_sample_traffic_light.jpg\n",
      "\n",
      "*** RoI Configuration for Red Light Signal saved ***\n",
      "\n",
      "('Image resolution: ', (1080, 1920, 3))\n",
      "--------------------------------------------------------------\n",
      "Define roi, select four points on a image\n",
      "Please follow the below order while selecting roi\n",
      "--------------------------------------------------------------\n",
      "Select --> bottom left  point\n",
      "Select --> top left point\n",
      "Select --> top right point\n",
      "Select --> bottom right point\n",
      "---------------------------------------------------------------------\n",
      "Press: \n",
      "'c': Confirm\n",
      "'r': Reset\n",
      "'q': Quit\n",
      "\n",
      "Sample image has been saved for future use as roi_sample_traffic_zone.jpg\n",
      "\n",
      "*** RoI Configuration for Red Light Violation Zone saved ***\n",
      "\n"
     ]
    }
   ],
   "source": [
    "video_object.setup_traffic_signal_violation_detection()"
   ]
  },
  {
   "cell_type": "markdown",
   "metadata": {},
   "source": [
    "### ROI setup instructions for  module traffic signal violation module\n",
    "For this particular module, there are two rois that pop up when a user runs the __setup_traffic_signal_violation_detection()__ function."
   ]
  },
  {
   "cell_type": "markdown",
   "metadata": {},
   "source": [
    "#### ROI for traffic signal selection"
   ]
  },
  {
   "cell_type": "markdown",
   "metadata": {},
   "source": [
    "<img src=\"RoI_Instruction_Image_RL.jpg\">"
   ]
  },
  {
   "cell_type": "markdown",
   "metadata": {},
   "source": [
    "#### ROI for direction detection"
   ]
  },
  {
   "cell_type": "markdown",
   "metadata": {},
   "source": [
    "<img src= \"RoI_Instruction_Image_VZ.jpg\">"
   ]
  },
  {
   "cell_type": "markdown",
   "metadata": {},
   "source": [
    "____"
   ]
  },
  {
   "cell_type": "markdown",
   "metadata": {},
   "source": [
    "### Step 7: Notify user for the output path\n",
    "The project runs in the real time, therefore once the setup for modules has been done, this function can be run in parallel to get the path where the output will be written. \n",
    "\n",
    "*A central poller which provides real-time alerts to the __Atlantis UI__ should looks for the poller present in the below mentioned path and start giving out alerts.*\n",
    "\n",
    "#### function: show_output_path()\n",
    "Sends one time notification to the UI once all the calibration has been done."
   ]
  },
  {
   "cell_type": "code",
   "execution_count": 10,
   "metadata": {},
   "outputs": [
    {
     "name": "stdout",
     "output_type": "stream",
     "text": [
      "THE OUTPUT FOR THIS RUN OF THE API WILL BE AT: /home/anuj/video-analytics/city/bangalore/realtime_car_analytics/output/bangalore/realtime_car_analytics/red_light_sim_1\n"
     ]
    }
   ],
   "source": [
    "video_object.show_output_path()"
   ]
  },
  {
   "cell_type": "markdown",
   "metadata": {},
   "source": [
    "### Step 8: Run modules (main process start-up)\n",
    "\n",
    "#### function: run()\n",
    "All the modules run independent of each other.\n",
    "Once modules have been setup, we call the tensorflow program entry point __run()__."
   ]
  },
  {
   "cell_type": "code",
   "execution_count": 11,
   "metadata": {},
   "outputs": [
    {
     "name": "stdout",
     "output_type": "stream",
     "text": [
      "Parsing darkflow/cfg/yolo.cfg\n",
      "Loading darkflow/bin/yolo.weights ...\n",
      "Successfully identified 203934260 bytes\n",
      "Finished in 0.315937042236s\n",
      "Model has a coco model name, loading coco labels.\n",
      "\n",
      "Building net ...\n",
      "Source | Train? | Layer description                | Output size\n",
      "-------+--------+----------------------------------+---------------\n",
      "       |        | input                            | (?, 608, 608, 3)\n",
      " Load  |  Yep!  | conv 3x3p1_1  +bnorm  leaky      | (?, 608, 608, 32)\n",
      " Load  |  Yep!  | maxp 2x2p0_2                     | (?, 304, 304, 32)\n",
      " Load  |  Yep!  | conv 3x3p1_1  +bnorm  leaky      | (?, 304, 304, 64)\n",
      " Load  |  Yep!  | maxp 2x2p0_2                     | (?, 152, 152, 64)\n",
      " Load  |  Yep!  | conv 3x3p1_1  +bnorm  leaky      | (?, 152, 152, 128)\n",
      " Load  |  Yep!  | conv 1x1p0_1  +bnorm  leaky      | (?, 152, 152, 64)\n",
      " Load  |  Yep!  | conv 3x3p1_1  +bnorm  leaky      | (?, 152, 152, 128)\n",
      " Load  |  Yep!  | maxp 2x2p0_2                     | (?, 76, 76, 128)\n",
      " Load  |  Yep!  | conv 3x3p1_1  +bnorm  leaky      | (?, 76, 76, 256)\n",
      " Load  |  Yep!  | conv 1x1p0_1  +bnorm  leaky      | (?, 76, 76, 128)\n",
      " Load  |  Yep!  | conv 3x3p1_1  +bnorm  leaky      | (?, 76, 76, 256)\n",
      " Load  |  Yep!  | maxp 2x2p0_2                     | (?, 38, 38, 256)\n",
      " Load  |  Yep!  | conv 3x3p1_1  +bnorm  leaky      | (?, 38, 38, 512)\n",
      " Load  |  Yep!  | conv 1x1p0_1  +bnorm  leaky      | (?, 38, 38, 256)\n",
      " Load  |  Yep!  | conv 3x3p1_1  +bnorm  leaky      | (?, 38, 38, 512)\n",
      " Load  |  Yep!  | conv 1x1p0_1  +bnorm  leaky      | (?, 38, 38, 256)\n",
      " Load  |  Yep!  | conv 3x3p1_1  +bnorm  leaky      | (?, 38, 38, 512)\n",
      " Load  |  Yep!  | maxp 2x2p0_2                     | (?, 19, 19, 512)\n",
      " Load  |  Yep!  | conv 3x3p1_1  +bnorm  leaky      | (?, 19, 19, 1024)\n",
      " Load  |  Yep!  | conv 1x1p0_1  +bnorm  leaky      | (?, 19, 19, 512)\n",
      " Load  |  Yep!  | conv 3x3p1_1  +bnorm  leaky      | (?, 19, 19, 1024)\n",
      " Load  |  Yep!  | conv 1x1p0_1  +bnorm  leaky      | (?, 19, 19, 512)\n",
      " Load  |  Yep!  | conv 3x3p1_1  +bnorm  leaky      | (?, 19, 19, 1024)\n",
      " Load  |  Yep!  | conv 3x3p1_1  +bnorm  leaky      | (?, 19, 19, 1024)\n",
      " Load  |  Yep!  | conv 3x3p1_1  +bnorm  leaky      | (?, 19, 19, 1024)\n",
      " Load  |  Yep!  | concat [16]                      | (?, 38, 38, 512)\n",
      " Load  |  Yep!  | conv 1x1p0_1  +bnorm  leaky      | (?, 38, 38, 64)\n",
      " Load  |  Yep!  | local flatten 2x2                | (?, 19, 19, 256)\n",
      " Load  |  Yep!  | concat [27, 24]                  | (?, 19, 19, 1280)\n",
      " Load  |  Yep!  | conv 3x3p1_1  +bnorm  leaky      | (?, 19, 19, 1024)\n",
      " Load  |  Yep!  | conv 1x1p0_1    linear           | (?, 19, 19, 425)\n",
      "-------+--------+----------------------------------+---------------\n",
      "GPU mode with 0.75 usage\n",
      "Finished in 17.7573010921s\n",
      "\n",
      "('feature dimensionality: ', 128)\n",
      "Press [ESC] to quit demo\n",
      "1.908 FPS\n",
      "End of Video\n",
      "\n",
      "End of Demo.\n"
     ]
    }
   ],
   "source": [
    "video_object.run()"
   ]
  },
  {
   "cell_type": "markdown",
   "metadata": {
    "collapsed": true
   },
   "source": [
    "### Expected Output"
   ]
  },
  {
   "cell_type": "markdown",
   "metadata": {},
   "source": [
    "<img src=\"output.jpg\">"
   ]
  },
  {
   "cell_type": "markdown",
   "metadata": {},
   "source": [
    "____"
   ]
  },
  {
   "cell_type": "markdown",
   "metadata": {},
   "source": [
    "____"
   ]
  },
  {
   "cell_type": "markdown",
   "metadata": {},
   "source": [
    "## How to use the results aggregated by our API?\n",
    "\n",
    "### 1. Sample Alert Poller\n",
    "* All events (*HSCD, Cars in Wrong Direction, Traffic Signal Violation*) happen in real time. \n",
    "\n",
    "* As soon as an event happens, it is logged into a time-stamped alert poller file. \n",
    "\n",
    "* A separate / independent python process / function can run and keep checking this file for entries and can then send out notificaions to the __Atlantis UI__.\n",
    "\n",
    "* A sample implementation has been done below.\n",
    "\n",
    "### function: path_to_alert_poller()\n",
    "The purpose of exposing this function is to directly provide the path where the events are being logged."
   ]
  },
  {
   "cell_type": "code",
   "execution_count": 16,
   "metadata": {},
   "outputs": [
    {
     "name": "stdout",
     "output_type": "stream",
     "text": [
      "Alerts have been generated, sample poller ready!\n",
      "\n",
      "['/home/anuj/video-analytics/city/bangalore/realtime_car_analytics/output/bangalore/realtime_car_analytics/red_light_sim_1/hscd/2017_11_30_17_38_42_videos/4/2017_11_30_17_38_42_4.json',\n",
      " '/home/anuj/video-analytics/city/bangalore/realtime_car_analytics/output/bangalore/realtime_car_analytics/red_light_sim_1/cmwd/2017_11_30_17_38_42_videos/4/2017_11_30_17_38_42_4.json',\n",
      " '/home/anuj/video-analytics/city/bangalore/realtime_car_analytics/output/bangalore/realtime_car_analytics/red_light_sim_1/hscd/2017_11_30_17_38_42_videos/9/2017_11_30_17_38_42_9.json',\n",
      " '/home/anuj/video-analytics/city/bangalore/realtime_car_analytics/output/bangalore/realtime_car_analytics/red_light_sim_1/cmwd/2017_11_30_17_38_42_videos/9/2017_11_30_17_38_42_9.json',\n",
      " '/home/anuj/video-analytics/city/bangalore/realtime_car_analytics/output/bangalore/realtime_car_analytics/red_light_sim_1/tsv/2017_11_30_17_38_42_videos/13/2017_11_30_17_38_42_13.json',\n",
      " '/home/anuj/video-analytics/city/bangalore/realtime_car_analytics/output/bangalore/realtime_car_analytics/red_light_sim_1/tsv/2017_11_30_17_38_42_videos/17/2017_11_30_17_38_42_17.json',\n",
      " '/home/anuj/video-analytics/city/bangalore/realtime_car_analytics/output/bangalore/realtime_car_analytics/red_light_sim_1/tsv/2017_11_30_17_38_42_videos/16/2017_11_30_17_38_42_16.json',\n",
      " '/home/anuj/video-analytics/city/bangalore/realtime_car_analytics/output/bangalore/realtime_car_analytics/red_light_sim_1/tsv/2017_11_30_17_38_42_videos/19/2017_11_30_17_38_42_19.json',\n",
      " '/home/anuj/video-analytics/city/bangalore/realtime_car_analytics/output/bangalore/realtime_car_analytics/red_light_sim_1/hscd/2017_11_30_17_38_42_videos/16/2017_11_30_17_38_42_16.json',\n",
      " '/home/anuj/video-analytics/city/bangalore/realtime_car_analytics/output/bangalore/realtime_car_analytics/red_light_sim_1/tsv/2017_11_30_17_38_42_videos/20/2017_11_30_17_38_42_20.json',\n",
      " '/home/anuj/video-analytics/city/bangalore/realtime_car_analytics/output/bangalore/realtime_car_analytics/red_light_sim_1/hscd/2017_11_30_17_38_42_videos/20/2017_11_30_17_38_42_20.json',\n",
      " '/home/anuj/video-analytics/city/bangalore/realtime_car_analytics/output/bangalore/realtime_car_analytics/red_light_sim_1/tsv/2017_11_30_17_38_42_videos/24/2017_11_30_17_38_42_24.json',\n",
      " '/home/anuj/video-analytics/city/bangalore/realtime_car_analytics/output/bangalore/realtime_car_analytics/red_light_sim_1/hscd/2017_11_30_17_38_42_videos/24/2017_11_30_17_38_42_24.json',\n",
      " '/home/anuj/video-analytics/city/bangalore/realtime_car_analytics/output/bangalore/realtime_car_analytics/red_light_sim_1/cmwd/2017_11_30_17_38_42_videos/42/2017_11_30_17_38_42_42.json',\n",
      " '/home/anuj/video-analytics/city/bangalore/realtime_car_analytics/output/bangalore/realtime_car_analytics/red_light_sim_1/hscd/2017_11_30_17_38_42_videos/54/2017_11_30_17_38_42_54.json',\n",
      " '/home/anuj/video-analytics/city/bangalore/realtime_car_analytics/output/bangalore/realtime_car_analytics/red_light_sim_1/hscd/2017_11_30_17_38_42_videos/36/2017_11_30_17_38_42_36.json',\n",
      " '/home/anuj/video-analytics/city/bangalore/realtime_car_analytics/output/bangalore/realtime_car_analytics/red_light_sim_1/cmwd/2017_11_30_17_38_42_videos/36/2017_11_30_17_38_42_36.json',\n",
      " '/home/anuj/video-analytics/city/bangalore/realtime_car_analytics/output/bangalore/realtime_car_analytics/red_light_sim_1/hscd/2017_11_30_17_38_42_videos/55/2017_11_30_17_38_42_55.json']\n"
     ]
    }
   ],
   "source": [
    "from pprint import pprint\n",
    "import os\n",
    "import json\n",
    "\n",
    "fname = video_object.path_to_alert_poller()\n",
    "\n",
    "poll_content = []\n",
    "if not os.path.isfile(fname):\n",
    "    print(\"alerts for this has not been generated yet, please try again!\")\n",
    "\n",
    "else:\n",
    "    print(\"Alerts have been generated, sample poller ready!\\n\")\n",
    "    with open(fname) as fp:\n",
    "        for line in fp:\n",
    "            poll_content.append(line.strip())\n",
    "    pprint(poll_content)"
   ]
  },
  {
   "cell_type": "markdown",
   "metadata": {},
   "source": [
    "### 2. Event information (ALERT generation)\n",
    "* Every event has a detailed information associated with it.\n",
    "\n",
    "* Below we manually pickup events for *HSCD, Cars in Wrong DIrection and Traffic Signal Violation* to show how it would be __consumed__ by Atlantis platform."
   ]
  },
  {
   "cell_type": "code",
   "execution_count": 52,
   "metadata": {},
   "outputs": [],
   "source": [
    "def process_event(data):\n",
    "    if data['module_name'] == \"hscd\":\n",
    "        print \"Tagged Car ID: {} has done a SPEED VIOLAION at location: {}, at time: {}. Speed Detected: {} Kmph. Speed Limit: {} Kmph. For more details, check url: https://<server-ip>{}\".format(data['tagged_car_id'], data['location'], data['time'], data['speed_detected'], 10, data['url'])\n",
    "    elif data['module_name'] == \"cmwd\":\n",
    "        print \"Tagged Car ID: {} was found MOVING IN WRONG DIRECTION at location: {}, at time: {}. For more details, check url: https://<server-ip>{}\".format(data['tagged_car_id'], data['location'], data['time'], data['url'])\n",
    "    elif data['module_name'] == \"tsv\":\n",
    "        print \"Tagged Car ID: {} was found VIOLATING TRAFFIC SIGNAL at location: {}, at time: {}. For more details, check url: https://<server-ip>{}\".format(data['tagged_car_id'], data['location'], data['time'], data['url'])"
   ]
  },
  {
   "cell_type": "markdown",
   "metadata": {},
   "source": [
    "### 1. Sample for HSCD\n",
    "\n",
    "* Load HSCD event \n",
    "* Car ID: 4\n",
    "\n",
    "__*An event for HSCD is picked up from poller and then processed by process_event() function.*__"
   ]
  },
  {
   "cell_type": "code",
   "execution_count": 53,
   "metadata": {},
   "outputs": [
    {
     "name": "stdout",
     "output_type": "stream",
     "text": [
      "{\n",
      "  \"tagged_car_id\": 4, \n",
      "  \"speed_detected\": 32, \n",
      "  \"url\": \"/home/anuj/video-analytics/city/bangalore/realtime_car_analytics/output/bangalore/realtime_car_analytics/red_light_sim_1/hscd/2017_11_30_17_38_42_videos/4/2017_11_30_17_38_42_4.mp4\", \n",
      "  \"location\": \"red_light_sim_1\", \n",
      "  \"time\": \"2017-11-30 17:40:20\", \n",
      "  \"module_name\": \"hscd\"\n",
      "}\n"
     ]
    }
   ],
   "source": [
    "data = json.load(open(poll_content[0]))\n",
    "print(json.dumps(data, indent=2))"
   ]
  },
  {
   "cell_type": "markdown",
   "metadata": {},
   "source": [
    "### Process event"
   ]
  },
  {
   "cell_type": "code",
   "execution_count": 54,
   "metadata": {},
   "outputs": [
    {
     "name": "stdout",
     "output_type": "stream",
     "text": [
      "Tagged Car ID: 4 has done a SPEED VIOLAION at location: red_light_sim_1, at time: 2017-11-30 17:40:20. Speed Detected: 32 Kmph. Speed Limit: 10 Kmph. For more details, check url: https://<server-ip>/home/anuj/video-analytics/city/bangalore/realtime_car_analytics/output/bangalore/realtime_car_analytics/red_light_sim_1/hscd/2017_11_30_17_38_42_videos/4/2017_11_30_17_38_42_4.mp4\n"
     ]
    }
   ],
   "source": [
    "process_event(data)"
   ]
  },
  {
   "cell_type": "markdown",
   "metadata": {},
   "source": [
    "### 2. Sample for Cars in Wrong Direction (CMWD)\n",
    "\n",
    "* Load CMWD event \n",
    "* Car ID: 9\n",
    "\n",
    "__*An event for CMWD is picked up from poller and then processed by process_event() function.*__"
   ]
  },
  {
   "cell_type": "code",
   "execution_count": 55,
   "metadata": {},
   "outputs": [
    {
     "name": "stdout",
     "output_type": "stream",
     "text": [
      "{\n",
      "  \"url\": \"/home/anuj/video-analytics/city/bangalore/realtime_car_analytics/output/bangalore/realtime_car_analytics/red_light_sim_1/cmwd/2017_11_30_17_38_42_videos/9/2017_11_30_17_38_42_9.mp4\", \n",
      "  \"module_name\": \"cmwd\", \n",
      "  \"tagged_car_id\": 9, \n",
      "  \"location\": \"red_light_sim_1\", \n",
      "  \"time\": \"2017-11-30 17:40:27\"\n",
      "}\n"
     ]
    }
   ],
   "source": [
    "data = json.load(open(poll_content[3]))\n",
    "print(json.dumps(data, indent=2))"
   ]
  },
  {
   "cell_type": "markdown",
   "metadata": {},
   "source": [
    "### Process event"
   ]
  },
  {
   "cell_type": "code",
   "execution_count": 56,
   "metadata": {},
   "outputs": [
    {
     "name": "stdout",
     "output_type": "stream",
     "text": [
      "Tagged Car ID: 9 was found MOVING IN WRONG DIRECTION at location: red_light_sim_1, at time: 2017-11-30 17:40:27. For more details, check url: https://<server-ip>/home/anuj/video-analytics/city/bangalore/realtime_car_analytics/output/bangalore/realtime_car_analytics/red_light_sim_1/cmwd/2017_11_30_17_38_42_videos/9/2017_11_30_17_38_42_9.mp4\n"
     ]
    }
   ],
   "source": [
    "process_event(data)"
   ]
  },
  {
   "cell_type": "markdown",
   "metadata": {},
   "source": [
    "### 3. Sample for Traffic Signal Violation (TSV)\n",
    "\n",
    "* Load TSV event \n",
    "* Car ID: 17\n",
    "\n",
    "__*An event for TSV is picked up from poller and then processed by process_event() function.*__"
   ]
  },
  {
   "cell_type": "code",
   "execution_count": 57,
   "metadata": {},
   "outputs": [
    {
     "name": "stdout",
     "output_type": "stream",
     "text": [
      "{\n",
      "  \"url\": \"/home/anuj/video-analytics/city/bangalore/realtime_car_analytics/output/bangalore/realtime_car_analytics/red_light_sim_1/tsv/2017_11_30_17_38_42_videos/17/2017_11_30_17_38_42_17.mp4\", \n",
      "  \"module_name\": \"tsv\", \n",
      "  \"tagged_car_id\": 17, \n",
      "  \"location\": \"red_light_sim_1\", \n",
      "  \"time\": \"2017-11-30 17:40:51\"\n",
      "}\n"
     ]
    }
   ],
   "source": [
    "data = json.load(open(poll_content[5]))\n",
    "print(json.dumps(data, indent=2))"
   ]
  },
  {
   "cell_type": "markdown",
   "metadata": {},
   "source": [
    "### Process event"
   ]
  },
  {
   "cell_type": "code",
   "execution_count": 58,
   "metadata": {},
   "outputs": [
    {
     "name": "stdout",
     "output_type": "stream",
     "text": [
      "Tagged Car ID: 17 was found VIOLATING TRAFFIC SIGNAL at location: red_light_sim_1, at time: 2017-11-30 17:40:51. For more details, check url: https://<server-ip>/home/anuj/video-analytics/city/bangalore/realtime_car_analytics/output/bangalore/realtime_car_analytics/red_light_sim_1/tsv/2017_11_30_17_38_42_videos/17/2017_11_30_17_38_42_17.mp4\n"
     ]
    }
   ],
   "source": [
    "process_event(data)"
   ]
  },
  {
   "cell_type": "code",
   "execution_count": null,
   "metadata": {},
   "outputs": [],
   "source": []
  }
 ],
 "metadata": {
  "kernelspec": {
   "display_name": "Python 2",
   "language": "python",
   "name": "python2"
  },
  "language_info": {
   "codemirror_mode": {
    "name": "ipython",
    "version": 2
   },
   "file_extension": ".py",
   "mimetype": "text/x-python",
   "name": "python",
   "nbconvert_exporter": "python",
   "pygments_lexer": "ipython2",
   "version": "2.7.12"
  }
 },
 "nbformat": 4,
 "nbformat_minor": 2
}
